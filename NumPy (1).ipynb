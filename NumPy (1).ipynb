{
 "cells": [
  {
   "cell_type": "code",
   "execution_count": 1,
   "id": "6e2b2fa9-1200-4dc5-8c08-9026870ba2d3",
   "metadata": {},
   "outputs": [
    {
     "name": "stdout",
     "output_type": "stream",
     "text": [
      "[0. 0. 0. 0. 0. 0. 0. 0. 0. 0.]\n"
     ]
    }
   ],
   "source": [
    "import numpy as np \n",
    "\n",
    "# Create an array of 10 zeros\n",
    "arr = np.zeros(10)\n",
    "print(arr)"
   ]
  },
  {
   "cell_type": "code",
   "execution_count": 2,
   "id": "101a58eb-5e2b-4ff9-aa44-9ad5f2fc682a",
   "metadata": {},
   "outputs": [
    {
     "name": "stdout",
     "output_type": "stream",
     "text": [
      "even integers from 10 to 50: [10 12 14 16 18 20 22 24 26 28 30 32 34 36 38 40 42 44 46 48 50]\n"
     ]
    }
   ],
   "source": [
    "# Create an array of all the even integers from 10 to 50.\n",
    "even_integers = np.arange(10, 51, 2)\n",
    "print(\"even integers from 10 to 50:\" , even_integers)"
   ]
  },
  {
   "cell_type": "code",
   "execution_count": 3,
   "id": "04820551-7469-46fc-abeb-e2097c41b21b",
   "metadata": {},
   "outputs": [
    {
     "name": "stdout",
     "output_type": "stream",
     "text": [
      "3x3 matrix with values from 0 to 8:\n",
      " [[0 1 2]\n",
      " [3 4 5]\n",
      " [6 7 8]]\n"
     ]
    }
   ],
   "source": [
    "# Create a 3x3 matrix with values ranging from 0 to 8\n",
    "matrix_3x3 = np.arange(9).reshape(3, 3)\n",
    "print(\"3x3 matrix with values from 0 to 8:\\n\", matrix_3x3)"
   ]
  },
  {
   "cell_type": "code",
   "execution_count": 4,
   "id": "a5bda4c3-9490-418e-989b-c0e07fb4c340",
   "metadata": {},
   "outputs": [
    {
     "name": "stdout",
     "output_type": "stream",
     "text": [
      "3x3 identity matrix:\n",
      " [[1. 0. 0.]\n",
      " [0. 1. 0.]\n",
      " [0. 0. 1.]]\n"
     ]
    }
   ],
   "source": [
    "# Create a 3x3 identity matrix\n",
    "identity_matrix = np.eye(3)\n",
    "print(\"3x3 identity matrix:\\n\", identity_matrix)"
   ]
  },
  {
   "cell_type": "code",
   "execution_count": 5,
   "id": "4b2d67cc-6db4-43ca-8ca3-7c74a786a05d",
   "metadata": {},
   "outputs": [
    {
     "name": "stdout",
     "output_type": "stream",
     "text": [
      "5x4 matrix with 20 random integers:\n",
      " [[92 61 40 19]\n",
      " [96 14 25  4]\n",
      " [58  9 69 96]\n",
      " [42 88 37 52]\n",
      " [33 67 19 42]]\n"
     ]
    }
   ],
   "source": [
    "# Use NumPy to generate a matrix (5x4) consisting of 20 random integers\n",
    "random_matrix = np.random.randint(0, 100, (5, 4))\n",
    "print(\"5x4 matrix with 20 random integers:\\n\", random_matrix)"
   ]
  },
  {
   "cell_type": "code",
   "execution_count": 6,
   "id": "12e3a464-ff4c-4e23-8abe-f74e2d5ca803",
   "metadata": {},
   "outputs": [
    {
     "name": "stdout",
     "output_type": "stream",
     "text": [
      "Array of 20 linearly spaced points between 0 and 1: [0.         0.05263158 0.10526316 0.15789474 0.21052632 0.26315789\n",
      " 0.31578947 0.36842105 0.42105263 0.47368421 0.52631579 0.57894737\n",
      " 0.63157895 0.68421053 0.73684211 0.78947368 0.84210526 0.89473684\n",
      " 0.94736842 1.        ]\n"
     ]
    }
   ],
   "source": [
    "# Create an array of 20 linearly spaced points between 0 and 1\n",
    "linear_spaced_array = np.linspace(0, 1, 20)\n",
    "print(\"Array of 20 linearly spaced points between 0 and 1:\", linear_spaced_array)"
   ]
  },
  {
   "cell_type": "code",
   "execution_count": 7,
   "id": "e46355b4-dfaa-4b93-ae25-672ccefe5194",
   "metadata": {},
   "outputs": [
    {
     "name": "stdout",
     "output_type": "stream",
     "text": [
      "[[12 13 14 15]\n",
      " [17 18 19 20]\n",
      " [22 23 24 25]]\n"
     ]
    }
   ],
   "source": [
    "import numpy as np \n",
    "\n",
    "# Write code that slices the matrix below (items in red only)\n",
    "matrix = np.array([[1, 2, 3, 4, 5],\n",
    "                   [6, 7, 8, 9, 10],\n",
    "                   [11, 12, 13, 14, 15],\n",
    "                   [16, 17, 18, 19, 20],\n",
    "                   [21, 22, 23, 24, 25]])\n",
    "sliced_matrix = matrix[2:, 1:]\n",
    "print(sliced_matrix)\n",
    "                   "
   ]
  },
  {
   "cell_type": "raw",
   "id": "5cc5c6fa-7f86-4e54-bda8-e8fbfade34c7",
   "metadata": {},
   "source": [
    "\n",
    "\n",
    "\n",
    "\n"
   ]
  },
  {
   "cell_type": "code",
   "execution_count": 8,
   "id": "7721857e-1dc8-442e-9410-fa1c2bd205c8",
   "metadata": {},
   "outputs": [
    {
     "name": "stdout",
     "output_type": "stream",
     "text": [
      "[2, 7, 12]\n"
     ]
    }
   ],
   "source": [
    "import numpy as np\n",
    "# Write code that slices the matrix below (items in red only)\n",
    "matrix = np.array([[ 1, 2, 3, 4, 5],\n",
    "                   [6, 7, 8, 9, 10],\n",
    "                   [11, 12, 13, 14, 15],\n",
    "                   [16, 17, 18, 19, 20],\n",
    "                   [21, 22, 23, 24, 25]])\n",
    "elements = [matrix[0, 1], matrix[1, 1], matrix[2, 1]]\n",
    "print(elements)"
   ]
  },
  {
   "cell_type": "code",
   "execution_count": 9,
   "id": "22286f34-4ea4-4256-b7f7-7ec65a7c5fce",
   "metadata": {},
   "outputs": [
    {
     "name": "stdout",
     "output_type": "stream",
     "text": [
      "[[16 17 18 19 20]\n",
      " [21 22 23 24 25]]\n"
     ]
    }
   ],
   "source": [
    "import numpy as np\n",
    "# Write code that slices the matrix below (items in red only)\n",
    "matrix = np.array([[ 1, 2, 3, 4, 5],\n",
    "                   [ 6, 7, 8, 9, 10],\n",
    "                   [11, 12, 13, 14, 15],\n",
    "                   [16, 17, 18, 19, 20],\n",
    "                   [21, 22, 23, 24, 25]])\n",
    "sliced_matrix = matrix[3:, :]\n",
    "print(sliced_matrix)"
   ]
  },
  {
   "cell_type": "code",
   "execution_count": null,
   "id": "1b4cc32a-ed07-4391-bd17-8aed9345e2f8",
   "metadata": {},
   "outputs": [],
   "source": []
  }
 ],
 "metadata": {
  "kernelspec": {
   "display_name": "Python 3 (ipykernel)",
   "language": "python",
   "name": "python3"
  },
  "language_info": {
   "codemirror_mode": {
    "name": "ipython",
    "version": 3
   },
   "file_extension": ".py",
   "mimetype": "text/x-python",
   "name": "python",
   "nbconvert_exporter": "python",
   "pygments_lexer": "ipython3",
   "version": "3.11.7"
  }
 },
 "nbformat": 4,
 "nbformat_minor": 5
}
